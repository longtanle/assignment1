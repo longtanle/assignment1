{
 "cells": [
  {
   "cell_type": "markdown",
   "metadata": {},
   "source": [
    "# Python Refresher"
   ]
  },
  {
   "cell_type": "markdown",
   "metadata": {},
   "source": [
    "Here we provided a basic refresher on Python concepts. \n",
    "\n",
    "We recommend you run this Jupyter notebook on your own computer to ensure that all packages have been installed correctly. Please refer to the Juypter document on Canvas for a guide on how to install Jupiter Notebook and how to install new packages in the Python environment with Anaconda.\n",
    "\n",
    "Other resources:\n",
    "\n",
    "-- For a more detailed review of Python, please refer to other guides, e.g. https://developers.google.com/edu/python?hl=en. \n",
    "\n",
    "-- Complete OLET1603 - Analysing and Plotting data: Python - see the document on Canvas about how to enroll\n",
    "\n",
    "-- Recommended books for the Python part of this course:\n",
    "\n",
    "*Hands-On Machine Learning with Scikit-Learn, Keras, and TensorFlow, 2nd Edition*\n",
    "\n",
    "*Introduction to Machine Learning with Python*\n",
    "\n",
    "## Example 1: Python\n",
    "\n",
    "### Data structures\n",
    "\n",
    "Python list, dictionary, tuple and set are the most used data structures in data science applications."
   ]
  },
  {
   "cell_type": "code",
   "execution_count": 15,
   "metadata": {},
   "outputs": [
    {
     "name": "stdout",
     "output_type": "stream",
     "text": [
      "list: [1, 3, 4]\n",
      "dictionary: {1: 'One', 2: 'Two', 3: 'Three'}\n",
      "tuple: (1, 2, 3)\n",
      "set: {1, 2, 3}\n"
     ]
    }
   ],
   "source": [
    "dictionary = {1: \"One\", 2: \"Two\", 3: \"Three\"}\n",
    "tuple = (1, 2, 3)\n",
    "set = {1, 2, 3}\n",
    "\n",
    "print(\"list:\", list)\n",
    "print(\"dictionary:\", dictionary)\n",
    "print(\"tuple:\", tuple)\n",
    "print(\"set:\", set)"
   ]
  },
  {
   "cell_type": "markdown",
   "metadata": {},
   "source": [
    "### Useful Functions"
   ]
  },
  {
   "cell_type": "code",
   "execution_count": 16,
   "metadata": {},
   "outputs": [
    {
     "name": "stdout",
     "output_type": "stream",
     "text": [
      "3\n",
      "hi3\n",
      "[1, 2, 3, 4]\n",
      "[1, 3, 4]\n",
      "1\n",
      "Help on built-in function len in module builtins:\n",
      "\n",
      "len(obj, /)\n",
      "    Return the number of items in a container.\n",
      "\n"
     ]
    }
   ],
   "source": [
    "#Length of list\n",
    "list = [1, 2, 3]\n",
    "print(len(list))\n",
    "#String concatenation and int to string function\n",
    "print(\"hi\" + str(len(list)))\n",
    "#Append/remove in list\n",
    "list.append(4)\n",
    "print(list)\n",
    "list.remove(2)\n",
    "print(list)\n",
    "#Count number in list\n",
    "print(list.count(4))\n",
    "\n",
    "# The help function can be used on any other function to display its documentation\n",
    "help(len)"
   ]
  },
  {
   "cell_type": "markdown",
   "metadata": {},
   "source": [
    "### Loops and conditions in Python\n",
    "\n",
    "There are two types of loops in Python, for and while. Python uses indents to indicate blocks of code"
   ]
  },
  {
   "cell_type": "code",
   "execution_count": 17,
   "metadata": {},
   "outputs": [
    {
     "name": "stdout",
     "output_type": "stream",
     "text": [
      "0\n",
      "2\n",
      "1\n",
      "1\n"
     ]
    }
   ],
   "source": [
    "for i in range(2):\n",
    "    print(i)\n",
    "    print(2-i)"
   ]
  },
  {
   "cell_type": "code",
   "execution_count": 18,
   "metadata": {},
   "outputs": [
    {
     "name": "stdout",
     "output_type": "stream",
     "text": [
      "This is an odd number.\n"
     ]
    }
   ],
   "source": [
    "# Conditions if and else are employed to nest conditions\n",
    "x = 5;\n",
    "if x%2==0 :\n",
    "    print (\"This is an even number.\")\n",
    "else :\n",
    "    print (\"This is an odd number.\")"
   ]
  },
  {
   "cell_type": "markdown",
   "metadata": {},
   "source": [
    "### Functions\n",
    "\n",
    "Python code could be made modular as block of reuseable code, called function. A function can accept parameters and can return values. "
   ]
  },
  {
   "cell_type": "code",
   "execution_count": 19,
   "metadata": {},
   "outputs": [
    {
     "name": "stdout",
     "output_type": "stream",
     "text": [
      "Hello World\n"
     ]
    },
    {
     "data": {
      "text/plain": [
       "True"
      ]
     },
     "execution_count": 19,
     "metadata": {},
     "output_type": "execute_result"
    }
   ],
   "source": [
    "def hello(name):\n",
    "    print(\"Hello \" + name)\n",
    "    return True\n",
    "\n",
    "hello(\"World\")"
   ]
  },
  {
   "cell_type": "markdown",
   "metadata": {},
   "source": [
    "## Example 2: Numpy Arrays\n",
    "Numpy arrays are a very common form of arrays to use in python. If Numpy is not found, refer to the Jupyter notebook guide to installing new packages into the anaconda environment.\n",
    "\n",
    "For more details and examples on Numpy functions refer to \n",
    "https://github.com/ageron/handson-ml/blob/master/tools_numpy.ipynb"
   ]
  },
  {
   "cell_type": "code",
   "execution_count": 20,
   "metadata": {
    "scrolled": true
   },
   "outputs": [
    {
     "name": "stdout",
     "output_type": "stream",
     "text": [
      "[0. 0. 0. 0. 0.]\n",
      "a:\n",
      "[[0. 0. 0. 0.]\n",
      " [0. 0. 0. 0.]\n",
      " [0. 0. 0. 0.]]\n",
      "Size:12\n",
      "Shape:(3, 4)\n",
      "Num Dimensions:2\n",
      "b:\n",
      "[[2. 2. 2. 2.]\n",
      " [2. 2. 2. 2.]\n",
      " [2. 2. 2. 2.]]\n",
      "a+b\n",
      "[[2. 2. 2. 2.]\n",
      " [2. 2. 2. 2.]\n",
      " [2. 2. 2. 2.]]\n",
      "[5 6 7 8 9]\n",
      "c:\n",
      "[5.  5.5 6.  6.5 7.  7.5 8.  8.5 9.  9.5]\n",
      "5.0\n",
      "[5.5]\n",
      "d:\n",
      "[[2. 2. 2. 2. 2. 2.]\n",
      " [2. 2. 2. 2. 2. 2.]]\n",
      "Shape (2, 6)\n",
      "[[2. 2. 2.]\n",
      " [2. 2. 2.]]\n"
     ]
    }
   ],
   "source": [
    "## Import Numpy library - \"as\" keyword allows a simple reference to the package\n",
    "import numpy as np\n",
    "\n",
    "#1D Zeros array\n",
    "print(np.zeros(5))\n",
    "#2D Zeros array\n",
    "a = np.zeros([3,4])\n",
    "print(\"a:\")\n",
    "print(a)\n",
    "\n",
    "print(\"Size:\" + str(a.size))\n",
    "print(\"Shape:\" + str(a.shape))\n",
    "print(\"Num Dimensions:\" + str(a.ndim))\n",
    "\n",
    "# Arrays of ones can be made, and multipled by integers\n",
    "b = 2*np.ones([3,4])\n",
    "print(\"b:\")\n",
    "print(b)\n",
    "# Arrays of the same size can be added together\n",
    "print(\"a+b\")\n",
    "print(a+b)\n",
    "\n",
    "\n",
    "# Numpy range of numbers\n",
    "print(np.arange(5,10))\n",
    "# Can also be used with a step parameter\n",
    "print(\"c:\")\n",
    "c = np.arange(5,10,0.5)\n",
    "print(c)\n",
    "\n",
    "\n",
    "\n",
    "# Elements from an array can be accessed using \"[]\". Note: Python arrays index from 0\n",
    "print(c[0])\n",
    "print(c[1:2])\n",
    "\n",
    "\n",
    "# Numpy arrays can be reshaped\n",
    "print(\"d:\")\n",
    "d = b.reshape(2,6)\n",
    "print(d)\n",
    "print(\"Shape\", d.shape)\n",
    "# \":\" can be used to access all elements for a row/column\n",
    "print(d[:, 1:4])"
   ]
  },
  {
   "cell_type": "markdown",
   "metadata": {},
   "source": [
    "## Example 3: Pandas Dataframe\n",
    "\n",
    "We will be using pandas dataframe in this course. Pandas dataframe is a two dimensional, potentially heterogeneous tabular data structure. It consists of three main components: data, row and columns."
   ]
  },
  {
   "cell_type": "code",
   "execution_count": 21,
   "metadata": {},
   "outputs": [
    {
     "data": {
      "text/html": [
       "<div>\n",
       "<style scoped>\n",
       "    .dataframe tbody tr th:only-of-type {\n",
       "        vertical-align: middle;\n",
       "    }\n",
       "\n",
       "    .dataframe tbody tr th {\n",
       "        vertical-align: top;\n",
       "    }\n",
       "\n",
       "    .dataframe thead th {\n",
       "        text-align: right;\n",
       "    }\n",
       "</style>\n",
       "<table border=\"1\" class=\"dataframe\">\n",
       "  <thead>\n",
       "    <tr style=\"text-align: right;\">\n",
       "      <th></th>\n",
       "      <th>Name</th>\n",
       "      <th>Location</th>\n",
       "      <th>Age</th>\n",
       "    </tr>\n",
       "  </thead>\n",
       "  <tbody>\n",
       "    <tr>\n",
       "      <td>0</td>\n",
       "      <td>John</td>\n",
       "      <td>New York</td>\n",
       "      <td>24</td>\n",
       "    </tr>\n",
       "    <tr>\n",
       "      <td>1</td>\n",
       "      <td>Anna</td>\n",
       "      <td>Paris</td>\n",
       "      <td>13</td>\n",
       "    </tr>\n",
       "    <tr>\n",
       "      <td>2</td>\n",
       "      <td>Peter</td>\n",
       "      <td>Berlin</td>\n",
       "      <td>53</td>\n",
       "    </tr>\n",
       "    <tr>\n",
       "      <td>3</td>\n",
       "      <td>Linda</td>\n",
       "      <td>London</td>\n",
       "      <td>33</td>\n",
       "    </tr>\n",
       "  </tbody>\n",
       "</table>\n",
       "</div>"
      ],
      "text/plain": [
       "    Name  Location  Age\n",
       "0   John  New York   24\n",
       "1   Anna     Paris   13\n",
       "2  Peter    Berlin   53\n",
       "3  Linda    London   33"
      ]
     },
     "metadata": {},
     "output_type": "display_data"
    },
    {
     "data": {
      "text/html": [
       "<div>\n",
       "<style scoped>\n",
       "    .dataframe tbody tr th:only-of-type {\n",
       "        vertical-align: middle;\n",
       "    }\n",
       "\n",
       "    .dataframe tbody tr th {\n",
       "        vertical-align: top;\n",
       "    }\n",
       "\n",
       "    .dataframe thead th {\n",
       "        text-align: right;\n",
       "    }\n",
       "</style>\n",
       "<table border=\"1\" class=\"dataframe\">\n",
       "  <thead>\n",
       "    <tr style=\"text-align: right;\">\n",
       "      <th></th>\n",
       "      <th>Name</th>\n",
       "      <th>Age</th>\n",
       "    </tr>\n",
       "  </thead>\n",
       "  <tbody>\n",
       "    <tr>\n",
       "      <td>0</td>\n",
       "      <td>John</td>\n",
       "      <td>24</td>\n",
       "    </tr>\n",
       "    <tr>\n",
       "      <td>1</td>\n",
       "      <td>Anna</td>\n",
       "      <td>13</td>\n",
       "    </tr>\n",
       "    <tr>\n",
       "      <td>2</td>\n",
       "      <td>Peter</td>\n",
       "      <td>53</td>\n",
       "    </tr>\n",
       "    <tr>\n",
       "      <td>3</td>\n",
       "      <td>Linda</td>\n",
       "      <td>33</td>\n",
       "    </tr>\n",
       "  </tbody>\n",
       "</table>\n",
       "</div>"
      ],
      "text/plain": [
       "    Name  Age\n",
       "0   John   24\n",
       "1   Anna   13\n",
       "2  Peter   53\n",
       "3  Linda   33"
      ]
     },
     "metadata": {},
     "output_type": "display_data"
    },
    {
     "data": {
      "text/html": [
       "<div>\n",
       "<style scoped>\n",
       "    .dataframe tbody tr th:only-of-type {\n",
       "        vertical-align: middle;\n",
       "    }\n",
       "\n",
       "    .dataframe tbody tr th {\n",
       "        vertical-align: top;\n",
       "    }\n",
       "\n",
       "    .dataframe thead th {\n",
       "        text-align: right;\n",
       "    }\n",
       "</style>\n",
       "<table border=\"1\" class=\"dataframe\">\n",
       "  <thead>\n",
       "    <tr style=\"text-align: right;\">\n",
       "      <th></th>\n",
       "      <th>Name</th>\n",
       "      <th>Location</th>\n",
       "      <th>Age</th>\n",
       "    </tr>\n",
       "  </thead>\n",
       "  <tbody>\n",
       "    <tr>\n",
       "      <td>1</td>\n",
       "      <td>Anna</td>\n",
       "      <td>Paris</td>\n",
       "      <td>13</td>\n",
       "    </tr>\n",
       "  </tbody>\n",
       "</table>\n",
       "</div>"
      ],
      "text/plain": [
       "   Name Location  Age\n",
       "1  Anna    Paris   13"
      ]
     },
     "metadata": {},
     "output_type": "display_data"
    },
    {
     "data": {
      "text/html": [
       "<div>\n",
       "<style scoped>\n",
       "    .dataframe tbody tr th:only-of-type {\n",
       "        vertical-align: middle;\n",
       "    }\n",
       "\n",
       "    .dataframe tbody tr th {\n",
       "        vertical-align: top;\n",
       "    }\n",
       "\n",
       "    .dataframe thead th {\n",
       "        text-align: right;\n",
       "    }\n",
       "</style>\n",
       "<table border=\"1\" class=\"dataframe\">\n",
       "  <thead>\n",
       "    <tr style=\"text-align: right;\">\n",
       "      <th></th>\n",
       "      <th>Location</th>\n",
       "      <th>Age</th>\n",
       "    </tr>\n",
       "    <tr>\n",
       "      <th>Name</th>\n",
       "      <th></th>\n",
       "      <th></th>\n",
       "    </tr>\n",
       "  </thead>\n",
       "  <tbody>\n",
       "    <tr>\n",
       "      <td>John</td>\n",
       "      <td>New York</td>\n",
       "      <td>24</td>\n",
       "    </tr>\n",
       "    <tr>\n",
       "      <td>Anna</td>\n",
       "      <td>Paris</td>\n",
       "      <td>13</td>\n",
       "    </tr>\n",
       "    <tr>\n",
       "      <td>Peter</td>\n",
       "      <td>Berlin</td>\n",
       "      <td>53</td>\n",
       "    </tr>\n",
       "    <tr>\n",
       "      <td>Linda</td>\n",
       "      <td>London</td>\n",
       "      <td>33</td>\n",
       "    </tr>\n",
       "  </tbody>\n",
       "</table>\n",
       "</div>"
      ],
      "text/plain": [
       "       Location  Age\n",
       "Name                \n",
       "John   New York   24\n",
       "Anna      Paris   13\n",
       "Peter    Berlin   53\n",
       "Linda    London   33"
      ]
     },
     "metadata": {},
     "output_type": "display_data"
    },
    {
     "data": {
      "text/html": [
       "<div>\n",
       "<style scoped>\n",
       "    .dataframe tbody tr th:only-of-type {\n",
       "        vertical-align: middle;\n",
       "    }\n",
       "\n",
       "    .dataframe tbody tr th {\n",
       "        vertical-align: top;\n",
       "    }\n",
       "\n",
       "    .dataframe thead th {\n",
       "        text-align: right;\n",
       "    }\n",
       "</style>\n",
       "<table border=\"1\" class=\"dataframe\">\n",
       "  <thead>\n",
       "    <tr style=\"text-align: right;\">\n",
       "      <th></th>\n",
       "      <th>Location</th>\n",
       "      <th>Age</th>\n",
       "    </tr>\n",
       "    <tr>\n",
       "      <th>Name</th>\n",
       "      <th></th>\n",
       "      <th></th>\n",
       "    </tr>\n",
       "  </thead>\n",
       "  <tbody>\n",
       "    <tr>\n",
       "      <td>Peter</td>\n",
       "      <td>Berlin</td>\n",
       "      <td>53</td>\n",
       "    </tr>\n",
       "  </tbody>\n",
       "</table>\n",
       "</div>"
      ],
      "text/plain": [
       "      Location  Age\n",
       "Name               \n",
       "Peter   Berlin   53"
      ]
     },
     "metadata": {},
     "output_type": "display_data"
    }
   ],
   "source": [
    "import pandas as pd\n",
    "\n",
    "# create a simple dictionary of people\n",
    "data = {'Name': [\"John\", \"Anna\", \"Peter\", \"Linda\"],\n",
    "         'Location' : [\"New York\", \"Paris\", \"Berlin\", \"London\"],\n",
    "         'Age' : [24, 13, 53, 33]\n",
    "        }\n",
    "# Convert dictionary to dataframe\n",
    "data_pandas = pd.DataFrame(data)\n",
    "# IPython.display allows \"pretty printing\" of dataframes\n",
    "# in the Jupyter notebook\n",
    "display(data_pandas)\n",
    "\n",
    "# Specific columns of data can also be selected using \"[]\"\n",
    "display(data_pandas[[\"Name\", \"Age\"]])\n",
    "\n",
    "# Rows can also be selected by either an integer of the row using the iloc function of pandas\n",
    "display(data_pandas.iloc[[1]])\n",
    "\n",
    "\n",
    "# You can also select a row with loc. \n",
    "#Let's first change the index of this dataset to \"Name\", and then select the row for Peter. \n",
    "data_pandas = data_pandas.set_index(\"Name\")\n",
    "display(data_pandas)\n",
    "display(data_pandas.loc[[\"Peter\"]])\n"
   ]
  },
  {
   "cell_type": "code",
   "execution_count": null,
   "metadata": {},
   "outputs": [],
   "source": []
  }
 ],
 "metadata": {
  "kernelspec": {
   "display_name": "Python 3",
   "language": "python",
   "name": "python3"
  },
  "language_info": {
   "codemirror_mode": {
    "name": "ipython",
    "version": 3
   },
   "file_extension": ".py",
   "mimetype": "text/x-python",
   "name": "python",
   "nbconvert_exporter": "python",
   "pygments_lexer": "ipython3",
   "version": "3.7.0"
  }
 },
 "nbformat": 4,
 "nbformat_minor": 1
}
